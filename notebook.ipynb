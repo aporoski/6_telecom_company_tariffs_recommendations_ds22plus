{
 "cells": [
  {
   "cell_type": "markdown",
   "metadata": {
    "toc": true
   },
   "source": [
    "<h1>Содержание<span class=\"tocSkip\"></span></h1>\n",
    "<div class=\"toc\"><ul class=\"toc-item\"><li><span><a href=\"#Подготовка-данных\" data-toc-modified-id=\"Подготовка-данных-1\"><span class=\"toc-item-num\">1&nbsp;&nbsp;</span>Подготовка данных</a></span><ul class=\"toc-item\"><li><span><a href=\"#деление-выборок\" data-toc-modified-id=\"деление-выборок-1.1\"><span class=\"toc-item-num\">1.1&nbsp;&nbsp;</span>деление выборок</a></span></li><li><span><a href=\"#кодирование\" data-toc-modified-id=\"кодирование-1.2\"><span class=\"toc-item-num\">1.2&nbsp;&nbsp;</span>кодирование</a></span></li><li><span><a href=\"#масштабирование-признаков\" data-toc-modified-id=\"масштабирование-признаков-1.3\"><span class=\"toc-item-num\">1.3&nbsp;&nbsp;</span>масштабирование признаков</a></span></li><li><span><a href=\"#Вывод\" data-toc-modified-id=\"Вывод-1.4\"><span class=\"toc-item-num\">1.4&nbsp;&nbsp;</span>Вывод</a></span></li></ul></li><li><span><a href=\"#Исследование-задачи\" data-toc-modified-id=\"Исследование-задачи-2\"><span class=\"toc-item-num\">2&nbsp;&nbsp;</span>Исследование задачи</a></span><ul class=\"toc-item\"><li><span><a href=\"#Исследуем-баланс-классов\" data-toc-modified-id=\"Исследуем-баланс-классов-2.1\"><span class=\"toc-item-num\">2.1&nbsp;&nbsp;</span>Исследуем баланс классов</a></span></li><li><span><a href=\"#Вывод\" data-toc-modified-id=\"Вывод-2.2\"><span class=\"toc-item-num\">2.2&nbsp;&nbsp;</span>Вывод</a></span></li></ul></li><li><span><a href=\"#Борьба-с-дисбалансом\" data-toc-modified-id=\"Борьба-с-дисбалансом-3\"><span class=\"toc-item-num\">3&nbsp;&nbsp;</span>Борьба с дисбалансом</a></span><ul class=\"toc-item\"><li><span><a href=\"#Взвешивание-классов\" data-toc-modified-id=\"Взвешивание-классов-3.1\"><span class=\"toc-item-num\">3.1&nbsp;&nbsp;</span>Взвешивание классов</a></span></li><li><span><a href=\"#Upsampling\" data-toc-modified-id=\"Upsampling-3.2\"><span class=\"toc-item-num\">3.2&nbsp;&nbsp;</span>Upsampling</a></span></li><li><span><a href=\"#Downsampling\" data-toc-modified-id=\"Downsampling-3.3\"><span class=\"toc-item-num\">3.3&nbsp;&nbsp;</span>Downsampling</a></span></li><li><span><a href=\"#Вывод\" data-toc-modified-id=\"Вывод-3.4\"><span class=\"toc-item-num\">3.4&nbsp;&nbsp;</span>Вывод</a></span></li></ul></li><li><span><a href=\"#Подбор-гиперпараметров\" data-toc-modified-id=\"Подбор-гиперпараметров-4\"><span class=\"toc-item-num\">4&nbsp;&nbsp;</span>Подбор гиперпараметров</a></span><ul class=\"toc-item\"><li><span><a href=\"#Cлучайный-лес\" data-toc-modified-id=\"Cлучайный-лес-4.1\"><span class=\"toc-item-num\">4.1&nbsp;&nbsp;</span>Cлучайный лес</a></span></li><li><span><a href=\"#Логистическая-регрессия\" data-toc-modified-id=\"Логистическая-регрессия-4.2\"><span class=\"toc-item-num\">4.2&nbsp;&nbsp;</span>Логистическая регрессия</a></span></li><li><span><a href=\"#Вывод\" data-toc-modified-id=\"Вывод-4.3\"><span class=\"toc-item-num\">4.3&nbsp;&nbsp;</span>Вывод</a></span></li></ul></li><li><span><a href=\"#Тестирование-модели\" data-toc-modified-id=\"Тестирование-модели-5\"><span class=\"toc-item-num\">5&nbsp;&nbsp;</span>Тестирование модели</a></span><ul class=\"toc-item\"><li><span><a href=\"#f1-мера-лучшей-модели\" data-toc-modified-id=\"f1-мера-лучшей-модели-5.1\"><span class=\"toc-item-num\">5.1&nbsp;&nbsp;</span>f1-мера лучшей модели</a></span></li><li><span><a href=\"#метрика-AUC-ROC-лучшей-модели\" data-toc-modified-id=\"метрика-AUC-ROC-лучшей-модели-5.2\"><span class=\"toc-item-num\">5.2&nbsp;&nbsp;</span>метрика AUC-ROC лучшей модели</a></span></li></ul></li><li><span><a href=\"#Вывод\" data-toc-modified-id=\"Вывод-6\"><span class=\"toc-item-num\">6&nbsp;&nbsp;</span>Вывод</a></span></li></ul></div>"
   ]
  },
  {
   "cell_type": "markdown",
   "metadata": {},
   "source": [
    "# Отток клиентов"
   ]
  },
  {
   "cell_type": "markdown",
   "metadata": {},
   "source": [
    "Из «Бета-Банка» стали уходить клиенты. Каждый месяц. Немного, но заметно. Банковские маркетологи посчитали: сохранять текущих клиентов дешевле, чем привлекать новых.\n",
    "\n",
    "Нужно спрогнозировать, уйдёт клиент из банка в ближайшее время или нет. Вам предоставлены исторические данные о поведении клиентов и расторжении договоров с банком. \n",
    "\n",
    "Постройте модель с предельно большим значением *F1*-меры. Чтобы сдать проект успешно, нужно довести метрику до 0.59. Проверьте *F1*-меру на тестовой выборке самостоятельно.\n",
    "\n",
    "Дополнительно измеряйте *AUC-ROC*, сравнивайте её значение с *F1*-мерой.\n",
    "\n",
    "Источник данных: [https://www.kaggle.com/barelydedicated/bank-customer-churn-modeling](https://www.kaggle.com/barelydedicated/bank-customer-churn-modeling)"
   ]
  },
  {
   "cell_type": "markdown",
   "metadata": {},
   "source": [
    "## Подготовка данных"
   ]
  },
  {
   "cell_type": "code",
   "execution_count": 3,
   "metadata": {},
   "outputs": [],
   "source": [
    "import pandas as pd\n",
    "import seaborn as sns\n",
    "from sklearn.model_selection import train_test_split\n",
    "from sklearn.ensemble import RandomForestClassifier\n",
    "from sklearn.linear_model import LogisticRegression\n",
    "from sklearn.tree import DecisionTreeClassifier\n",
    "from sklearn.metrics import accuracy_score\n",
    "from sklearn.preprocessing import OrdinalEncoder\n",
    "from sklearn.metrics import f1_score\n",
    "from sklearn.metrics import roc_auc_score\n",
    "from sklearn.metrics import precision_recall_curve\n",
    "from sklearn.metrics import roc_curve\n",
    "from sklearn.preprocessing import StandardScaler\n",
    "import matplotlib.pyplot as plt\n",
    "from sklearn.utils import shuffle\n",
    "from IPython.display import Markdown as md"
   ]
  },
  {
   "cell_type": "code",
   "execution_count": 4,
   "metadata": {
    "scrolled": true
   },
   "outputs": [
    {
     "data": {
      "text/plain": [
       "rownumber            0\n",
       "customerid           0\n",
       "surname              0\n",
       "creditscore          0\n",
       "geography            0\n",
       "gender               0\n",
       "age                  0\n",
       "tenure             909\n",
       "balance              0\n",
       "numofproducts        0\n",
       "hascrcard            0\n",
       "isactivemember       0\n",
       "estimatedsalary      0\n",
       "exited               0\n",
       "dtype: int64"
      ]
     },
     "execution_count": 4,
     "metadata": {},
     "output_type": "execute_result"
    }
   ],
   "source": [
    "df = pd.read_csv('datasets/churn.csv')\n",
    "df.columns = df.columns.str.lower()\n",
    "\n",
    "#сразу проверим пропуски\n",
    "df.isna().sum()"
   ]
  },
  {
   "cell_type": "code",
   "execution_count": 5,
   "metadata": {},
   "outputs": [
    {
     "name": "stdout",
     "output_type": "stream",
     "text": [
      "<class 'pandas.core.frame.DataFrame'>\n",
      "RangeIndex: 10000 entries, 0 to 9999\n",
      "Data columns (total 14 columns):\n",
      " #   Column           Non-Null Count  Dtype  \n",
      "---  ------           --------------  -----  \n",
      " 0   rownumber        10000 non-null  int64  \n",
      " 1   customerid       10000 non-null  int64  \n",
      " 2   surname          10000 non-null  object \n",
      " 3   creditscore      10000 non-null  int64  \n",
      " 4   geography        10000 non-null  object \n",
      " 5   gender           10000 non-null  object \n",
      " 6   age              10000 non-null  int64  \n",
      " 7   tenure           9091 non-null   float64\n",
      " 8   balance          10000 non-null  float64\n",
      " 9   numofproducts    10000 non-null  int64  \n",
      " 10  hascrcard        10000 non-null  int64  \n",
      " 11  isactivemember   10000 non-null  int64  \n",
      " 12  estimatedsalary  10000 non-null  float64\n",
      " 13  exited           10000 non-null  int64  \n",
      "dtypes: float64(3), int64(8), object(3)\n",
      "memory usage: 1.1+ MB\n"
     ]
    }
   ],
   "source": [
    "df.info()"
   ]
  },
  {
   "cell_type": "markdown",
   "metadata": {},
   "source": [
    "познакомимся с датафреймом"
   ]
  },
  {
   "cell_type": "code",
   "execution_count": 6,
   "metadata": {
    "scrolled": true
   },
   "outputs": [],
   "source": [
    "#df=df.dropna()"
   ]
  },
  {
   "cell_type": "markdown",
   "metadata": {},
   "source": [
    "НЕ убираем пропуски))"
   ]
  },
  {
   "cell_type": "code",
   "execution_count": 7,
   "metadata": {},
   "outputs": [],
   "source": [
    "df['tenure']=df['tenure'].fillna(-1)"
   ]
  },
  {
   "cell_type": "code",
   "execution_count": 8,
   "metadata": {},
   "outputs": [
    {
     "data": {
      "text/plain": [
       "<AxesSubplot:>"
      ]
     },
     "execution_count": 8,
     "metadata": {},
     "output_type": "execute_result"
    },
    {
     "data": {
      "image/png": "[encoded data removed]",
      "text/plain": [
       "<Figure size 640x480 with 1 Axes>"
      ]
     },
     "metadata": {},
     "output_type": "display_data"
    }
   ],
   "source": [
    "df['tenure'].hist(bins=100)"
   ]
  },
  {
   "cell_type": "code",
   "execution_count": 9,
   "metadata": {},
   "outputs": [],
   "source": [
    "df=df.drop(['surname','rownumber'], axis=1)"
   ]
  },
  {
   "cell_type": "markdown",
   "metadata": {},
   "source": [
    "уберем surname чтобы избежать чрезмерного увеличения таблицы при кодирования."
   ]
  },
  {
   "cell_type": "markdown",
   "metadata": {},
   "source": [
    "так же уберем rownumber(старый индекс)"
   ]
  },
  {
   "cell_type": "code",
   "execution_count": 10,
   "metadata": {},
   "outputs": [],
   "source": [
    "df=df.drop(['customerid'],axis=1)"
   ]
  },
  {
   "cell_type": "markdown",
   "metadata": {},
   "source": [
    "\n",
    "<div class=\"alert alert-block alert-info\">\n",
    "<b>Изменения:</b> избавляемся от customer_id\n",
    "</div>"
   ]
  },
  {
   "cell_type": "code",
   "execution_count": 11,
   "metadata": {},
   "outputs": [],
   "source": [
    "##df_ohe = pd.get_dummies(df2)\n",
    "##features_ohe = df_ohe.drop(['exited'], axis=1)\n",
    "##target_ohe = df_ohe['exited']"
   ]
  },
  {
   "cell_type": "code",
   "execution_count": 12,
   "metadata": {
    "scrolled": false
   },
   "outputs": [],
   "source": [
    "#features_ohe.columns"
   ]
  },
  {
   "cell_type": "markdown",
   "metadata": {},
   "source": [
    "### деление выборок"
   ]
  },
  {
   "cell_type": "markdown",
   "metadata": {},
   "source": [
    "<div class=\"alert alert-block alert-info\">\n",
    "<b>Изменения:</b> делим на три, в соотношении 3:1:1\n",
    "</div>"
   ]
  },
  {
   "cell_type": "code",
   "execution_count": 13,
   "metadata": {
    "scrolled": true
   },
   "outputs": [
    {
     "name": "stdout",
     "output_type": "stream",
     "text": [
      "Размеры выборок: Обучающая - 0.6 , валидационная - 0.2 тестовая -  0.2\n"
     ]
    }
   ],
   "source": [
    "features = df.drop(['exited'], axis=1)\n",
    "target = df['exited']\n",
    "\n",
    "features_train, features_temp, target_train, target_temp = train_test_split(\n",
    "    features, target, test_size=0.4, random_state=12345) \n",
    "\n",
    "features_valid, features_test, target_valid, target_test = train_test_split(\n",
    "    features_temp,target_temp,test_size=0.5,train_size=0.5,random_state=12345)\n",
    "\n",
    "print('Размеры выборок: Обучающая -',round(features_train.shape[0]/df.shape[0],2),', валидационная -', \n",
    "      round(features_valid.shape[0]/df.shape[0],2), 'тестовая - ',round(features_test.shape[0]/df.shape[0],2))"
   ]
  },
  {
   "cell_type": "markdown",
   "metadata": {},
   "source": [
    "### кодирование"
   ]
  },
  {
   "cell_type": "code",
   "execution_count": 69,
   "metadata": {},
   "outputs": [],
   "source": [
    "features_train = pd.get_dummies(features_train, drop_first=True)\n",
    "\n",
    "features_valid = pd.get_dummies(features_valid, drop_first=True)\n",
    "\n",
    "features_test = pd.get_dummies(features_test, drop_first=True)"
   ]
  },
  {
   "cell_type": "markdown",
   "metadata": {},
   "source": [
    "### масштабирование признаков"
   ]
  },
  {
   "cell_type": "code",
   "execution_count": 70,
   "metadata": {},
   "outputs": [],
   "source": [
    "numeric = ['creditscore','age','tenure','balance','numofproducts','estimatedsalary']\n",
    "\n",
    "scaler=StandardScaler()\n",
    "\n",
    "scaler.fit(features_train[numeric])\n",
    "\n",
    "features_train[numeric] = scaler.transform(features_train[numeric])\n",
    "features_valid[numeric] = scaler.transform(features_valid[numeric])\n",
    "features_test[numeric] = scaler.transform(features_test[numeric])"
   ]
  },
  {
   "cell_type": "markdown",
   "metadata": {},
   "source": [
    "### Вывод"
   ]
  },
  {
   "cell_type": "markdown",
   "metadata": {},
   "source": [
    "убран столбец с фамилией,  чтобы избежать увеличения датафрейма при кодировании.\n",
    "\n",
    "убраны столбец rownumber, customerid ( не нужны для обучения )\n",
    "\n",
    "обработаны пропуски в tenure \n",
    "\n",
    "выборки разделены в соотношении 3:1:1\n",
    "\n",
    "применено кодирование признаков\n",
    "\n",
    "проведено масштабирование признаков"
   ]
  },
  {
   "cell_type": "markdown",
   "metadata": {},
   "source": [
    "## Исследование задачи"
   ]
  },
  {
   "cell_type": "markdown",
   "metadata": {},
   "source": [
    "### Исследуем баланс классов"
   ]
  },
  {
   "cell_type": "code",
   "execution_count": 16,
   "metadata": {},
   "outputs": [
    {
     "data": {
      "text/plain": [
       "0    4804\n",
       "1    1196\n",
       "Name: exited, dtype: int64"
      ]
     },
     "execution_count": 16,
     "metadata": {},
     "output_type": "execute_result"
    }
   ],
   "source": [
    "target_train.value_counts()"
   ]
  },
  {
   "cell_type": "markdown",
   "metadata": {},
   "source": [
    "посмотрим точность модели без учета дисбаланса"
   ]
  },
  {
   "cell_type": "code",
   "execution_count": 17,
   "metadata": {
    "scrolled": false
   },
   "outputs": [
    {
     "data": {
      "text/plain": [
       "0.5727136431784108"
      ]
     },
     "execution_count": 17,
     "metadata": {},
     "output_type": "execute_result"
    }
   ],
   "source": [
    "model = RandomForestClassifier(random_state=333)\n",
    "\n",
    "model.fit(features_train, target_train)\n",
    "\n",
    "predicted_valid = model.predict(features_valid)\n",
    "f1=f1_score(target_valid,predicted_valid)\n",
    "f1"
   ]
  },
  {
   "cell_type": "markdown",
   "metadata": {},
   "source": [
    "также вычислим метрику AUC-ROC"
   ]
  },
  {
   "cell_type": "code",
   "execution_count": 83,
   "metadata": {
    "scrolled": false
   },
   "outputs": [
    {
     "data": {
      "text/plain": [
       "0.8502138290214676"
      ]
     },
     "execution_count": 83,
     "metadata": {},
     "output_type": "execute_result"
    }
   ],
   "source": [
    "probabilities_valid = model.predict_proba(features_valid)\n",
    "probabilities_one_valid = probabilities_valid[:, 1]\n",
    "auc_roc = roc_auc_score(target_valid, probabilities_one_valid)\n",
    "auc_roc"
   ]
  },
  {
   "cell_type": "markdown",
   "metadata": {},
   "source": [
    "метрика f1 составила 0.57- есть к чему стремиться, но и не самый худший результат. посмотрим что получится после борьбы с дисбалансом"
   ]
  },
  {
   "cell_type": "markdown",
   "metadata": {},
   "source": [
    "построим ROC- кривую чтобы понять насколько наша модель отличается от случайной"
   ]
  },
  {
   "cell_type": "code",
   "execution_count": 19,
   "metadata": {
    "scrolled": false
   },
   "outputs": [
    {
     "data": {
      "image/png": "[encoded data removed]",
      "text/plain": [
       "<Figure size 640x480 with 1 Axes>"
      ]
     },
     "metadata": {},
     "output_type": "display_data"
    }
   ],
   "source": [
    "probabilities_valid = model.predict_proba(features_valid)\n",
    "probabilities_one_valid = probabilities_valid[:, 1]\n",
    "\n",
    "fpr, tpr, thresholds = roc_curve(target_valid, probabilities_one_valid) \n",
    "\n",
    "plt.figure()\n",
    "plt.plot(fpr, tpr)\n",
    "plt.xlim([0.0, 1.0])\n",
    "plt.ylim([0.0, 1.0])\n",
    "plt.xlabel('False Positive Rate')\n",
    "plt.ylabel('True Positive Rate')\n",
    "plt.title('ROC-кривая')\n",
    "plt.show()"
   ]
  },
  {
   "cell_type": "markdown",
   "metadata": {},
   "source": [
    "Для модели, которая всегда отвечает случайно, ROC-кривая выглядит как прямая, идущая из левого нижнего угла в верхний правый. Чем график выше, тем больше значение TPR и лучше качество модели. "
   ]
  },
  {
   "cell_type": "markdown",
   "metadata": {},
   "source": [
    "### Вывод"
   ]
  },
  {
   "cell_type": "markdown",
   "metadata": {},
   "source": [
    "f1-меру нужно увеличивать, дисбаланс присутствует"
   ]
  },
  {
   "cell_type": "markdown",
   "metadata": {},
   "source": [
    "## Борьба с дисбалансом"
   ]
  },
  {
   "cell_type": "markdown",
   "metadata": {},
   "source": [
    "Чтобы увеличить качество модели при дисбалансе классов применим: взвешивание классов, upsampling и downsampling"
   ]
  },
  {
   "cell_type": "markdown",
   "metadata": {},
   "source": [
    "### Взвешивание классов"
   ]
  },
  {
   "cell_type": "markdown",
   "metadata": {},
   "source": [
    "сначала применим аргумент взвешивание классов и посмотрим на результат"
   ]
  },
  {
   "cell_type": "code",
   "execution_count": 20,
   "metadata": {
    "scrolled": true
   },
   "outputs": [
    {
     "name": "stdout",
     "output_type": "stream",
     "text": [
      "F1: 0.5591397849462365\n"
     ]
    }
   ],
   "source": [
    "model = RandomForestClassifier(random_state=444, class_weight='balanced')\n",
    "model.fit(features_train,target_train)\n",
    "predicted_valid=model.predict(features_valid)\n",
    "f1=f1_score(target_valid, predicted_valid)\n",
    "\n",
    "print(\"F1:\", f1)"
   ]
  },
  {
   "cell_type": "markdown",
   "metadata": {},
   "source": [
    "метрика даже снизилась на 0.04, продолжаем борьбу"
   ]
  },
  {
   "cell_type": "markdown",
   "metadata": {},
   "source": [
    "### Upsampling"
   ]
  },
  {
   "cell_type": "markdown",
   "metadata": {},
   "source": [
    "Теперь применим upsampling:"
   ]
  },
  {
   "cell_type": "code",
   "execution_count": 21,
   "metadata": {},
   "outputs": [],
   "source": [
    "def upsample(features, target, repeat, random):\n",
    "    features_zeros = features[target == 0]\n",
    "    features_ones = features[target == 1]\n",
    "    target_zeros = target[target == 0]\n",
    "    target_ones = target[target == 1]\n",
    "    features_upsampled = pd.concat([features_zeros] + [features_ones] * repeat)\n",
    "    target_upsampled = pd.concat([target_zeros] + [target_ones] * repeat)\n",
    "    \n",
    "    features_upsampled = shuffle(features_upsampled, random_state=random)\n",
    "    target_upsampled = shuffle(target_upsampled, random_state=random)\n",
    "    \n",
    "    return features_upsampled,target_upsampled"
   ]
  },
  {
   "cell_type": "code",
   "execution_count": 22,
   "metadata": {},
   "outputs": [
    {
     "name": "stdout",
     "output_type": "stream",
     "text": [
      "F1: 0.6070460704607046\n"
     ]
    }
   ],
   "source": [
    "features_train_upsampled, target_train_upsampled = upsample(features_train, target_train, 2, 777)\n",
    "model = RandomForestClassifier(random_state=12345)\n",
    "model.fit(features_train_upsampled, target_train_upsampled)\n",
    "predicted_valid=model.predict(features_valid)\n",
    "f1=f1_score(target_valid, predicted_valid)\n",
    "print(\"F1:\", f1)"
   ]
  },
  {
   "cell_type": "markdown",
   "metadata": {},
   "source": [
    "f1 увеличилась"
   ]
  },
  {
   "cell_type": "markdown",
   "metadata": {},
   "source": [
    "### Downsampling"
   ]
  },
  {
   "cell_type": "markdown",
   "metadata": {},
   "source": [
    "применим downsampling:"
   ]
  },
  {
   "cell_type": "code",
   "execution_count": 23,
   "metadata": {},
   "outputs": [],
   "source": [
    "def downsample(features, target, fraction,random):\n",
    "    features_zeros = features[target == 0]\n",
    "    features_ones = features[target == 1]\n",
    "    target_zeros = target[target == 0]\n",
    "    target_ones = target[target == 1]\n",
    "\n",
    "    features_downsampled = pd.concat(\n",
    "        [features_zeros.sample(frac=fraction, random_state=12345)] + [features_ones])\n",
    "    target_downsampled = pd.concat(\n",
    "        [target_zeros.sample(frac=fraction, random_state=12345)] + [target_ones])\n",
    "    \n",
    "    features_downsampled, target_downsampled = shuffle(\n",
    "        features_downsampled, target_downsampled, random_state=random )\n",
    "    \n",
    "    return features_downsampled, target_downsampled"
   ]
  },
  {
   "cell_type": "code",
   "execution_count": 24,
   "metadata": {
    "scrolled": false
   },
   "outputs": [
    {
     "name": "stdout",
     "output_type": "stream",
     "text": [
      "F1: 0.6159509202453988\n"
     ]
    }
   ],
   "source": [
    "features_train_downsampled, target_train_downsampled = downsample(features_train, target_train, 0.5, 777)\n",
    "model = RandomForestClassifier(random_state=12345)\n",
    "model.fit(features_train_downsampled, target_train_downsampled)\n",
    "predicted_valid=model.predict(features_valid)\n",
    "f1=f1_score(target_valid, predicted_valid)\n",
    "print(\"F1:\", f1)"
   ]
  },
  {
   "cell_type": "markdown",
   "metadata": {},
   "source": [
    "f1 увеличилась"
   ]
  },
  {
   "cell_type": "markdown",
   "metadata": {},
   "source": [
    "### Вывод"
   ]
  },
  {
   "cell_type": "markdown",
   "metadata": {},
   "source": [
    "Применено взвешивание классов, upsampling, downsampling. \n",
    "\n",
    "После использования взвешивании классов f1 метрика снизилась на 0.02 (в моём случае).\n",
    "\n",
    "После использования метода upsampling f1 метрика увеличилась на 0.04 (в моём случае). Применим при поиске лучшей модели \n",
    "\n",
    "После использования метода downsampling f1 метрика снижается (в моём случае)."
   ]
  },
  {
   "cell_type": "markdown",
   "metadata": {},
   "source": [
    "## Подбор гиперпараметров"
   ]
  },
  {
   "cell_type": "markdown",
   "metadata": {},
   "source": [
    "### Cлучайный лес"
   ]
  },
  {
   "cell_type": "code",
   "execution_count": 26,
   "metadata": {},
   "outputs": [],
   "source": [
    "best_f1_score=0\n",
    "best_depth=0\n",
    "best_n_est=0"
   ]
  },
  {
   "cell_type": "markdown",
   "metadata": {},
   "source": [
    "будем искать наилучшие гиперпараметры, сначала определимся с глубиной"
   ]
  },
  {
   "cell_type": "markdown",
   "metadata": {},
   "source": [
    "<div class=\"alert alert-block alert-info\">\n",
    "<b>Комментарий студента:</b> Так как у нас наблюдается явный дисбаланс классов, то метрика score не годится, и на тестовых выборках с обычным score 0.85+ у меня получался результат f1-score менее 0.59 (что не годится). Поэтому сделал поиск относительно наилучшего f1\n",
    "</div>"
   ]
  },
  {
   "cell_type": "code",
   "execution_count": 89,
   "metadata": {
    "scrolled": false
   },
   "outputs": [
    {
     "name": "stdout",
     "output_type": "stream",
     "text": [
      "depth: 4 , score_valid: 0.8505 f1_score: 0.591\n",
      "depth: 5 , score_valid: 0.855 f1_score: 0.594\n",
      "depth: 6 , score_valid: 0.854 f1_score: 0.599\n",
      "depth: 7 , score_valid: 0.8525 f1_score: 0.61\n",
      "depth: 8 , score_valid: 0.8535 f1_score: 0.607\n",
      "depth: 9 , score_valid: 0.857 f1_score: 0.618\n",
      "depth: 10 , score_valid: 0.8495 f1_score: 0.603\n",
      "depth: 11 , score_valid: 0.8425 f1_score: 0.594\n",
      "depth: 12 , score_valid: 0.8475 f1_score: 0.6\n",
      "depth: 13 , score_valid: 0.8405 f1_score: 0.582\n",
      "depth: 14 , score_valid: 0.8445 f1_score: 0.583\n",
      "depth: 15 , score_valid: 0.8515 f1_score: 0.605\n",
      "depth: 16 , score_valid: 0.84 f1_score: 0.574\n",
      "depth: 17 , score_valid: 0.848 f1_score: 0.586\n",
      "depth: 18 , score_valid: 0.8435 f1_score: 0.567\n",
      "depth: 19 , score_valid: 0.843 f1_score: 0.564\n",
      "depth: 20 , score_valid: 0.848 f1_score: 0.58\n",
      "depth: 21 , score_valid: 0.845 f1_score: 0.572\n",
      "depth: 22 , score_valid: 0.84 f1_score: 0.563\n",
      "depth: 23 , score_valid: 0.8425 f1_score: 0.561\n",
      "depth: 24 , score_valid: 0.842 f1_score: 0.565\n",
      "depth: 25 , score_valid: 0.842 f1_score: 0.565\n",
      "depth: 26 , score_valid: 0.842 f1_score: 0.565\n",
      "depth: 27 , score_valid: 0.842 f1_score: 0.565\n",
      "depth: 28 , score_valid: 0.842 f1_score: 0.565\n",
      "depth: 29 , score_valid: 0.842 f1_score: 0.565\n",
      "best_f1_score 0.6383526383526383 with depth -  9\n",
      "Wall time: 1.6 s\n"
     ]
    },
    {
     "data": {
      "text/plain": [
       "RandomForestClassifier(max_depth=9, n_estimators=78)"
      ]
     },
     "execution_count": 89,
     "metadata": {},
     "output_type": "execute_result"
    }
   ],
   "source": [
    "%%time \n",
    "for depth in range(4,30,1):\n",
    "    model = RandomForestClassifier(n_estimators = 10, max_depth = depth, random_state =12345 )\n",
    "    model.fit(features_train_upsampled,target_train_upsampled)    \n",
    "    predictions_valid=model.predict(features_valid)\n",
    "    print('depth:',depth, ', score_valid:', round(model.score(features_valid, target_valid),6),'f1_score:',\n",
    "         round(f1_score(target_valid,predictions_valid),3)) \n",
    "    if best_f1_score < f1_score(target_valid,predictions_valid):\n",
    "        best_score = model.score(features_valid, target_valid)\n",
    "        best_f1_score = f1_score(target_valid,predictions_valid)\n",
    "        best_depth=depth\n",
    "        \n",
    "print('best_f1_score',best_f1_score, 'with depth - ',best_depth)\n",
    "best_model"
   ]
  },
  {
   "cell_type": "code",
   "execution_count": 73,
   "metadata": {},
   "outputs": [],
   "source": [
    "best_f1_score=0"
   ]
  },
  {
   "cell_type": "code",
   "execution_count": 85,
   "metadata": {
    "scrolled": false
   },
   "outputs": [
    {
     "name": "stdout",
     "output_type": "stream",
     "text": [
      "n_est: 30 score_valid: 0.852 f1_score: 0.622\n",
      "n_est: 31 score_valid: 0.856 f1_score: 0.627\n",
      "n_est: 32 score_valid: 0.85 f1_score: 0.621\n",
      "n_est: 33 score_valid: 0.852 f1_score: 0.615\n",
      "n_est: 34 score_valid: 0.851 f1_score: 0.616\n",
      "n_est: 35 score_valid: 0.854 f1_score: 0.629\n",
      "n_est: 36 score_valid: 0.844 f1_score: 0.607\n",
      "n_est: 37 score_valid: 0.851 f1_score: 0.62\n",
      "n_est: 38 score_valid: 0.85 f1_score: 0.615\n",
      "n_est: 39 score_valid: 0.852 f1_score: 0.623\n",
      "n_est: 40 score_valid: 0.85 f1_score: 0.622\n",
      "n_est: 41 score_valid: 0.854 f1_score: 0.632\n",
      "n_est: 42 score_valid: 0.854 f1_score: 0.624\n",
      "n_est: 43 score_valid: 0.854 f1_score: 0.622\n",
      "n_est: 44 score_valid: 0.852 f1_score: 0.621\n",
      "n_est: 45 score_valid: 0.851 f1_score: 0.625\n",
      "n_est: 46 score_valid: 0.856 f1_score: 0.632\n",
      "n_est: 47 score_valid: 0.852 f1_score: 0.621\n",
      "n_est: 48 score_valid: 0.858 f1_score: 0.638\n",
      "n_est: 49 score_valid: 0.854 f1_score: 0.627\n",
      "n_est: 50 score_valid: 0.852 f1_score: 0.621\n",
      "n_est: 51 score_valid: 0.851 f1_score: 0.626\n",
      "n_est: 52 score_valid: 0.854 f1_score: 0.629\n",
      "n_est: 53 score_valid: 0.846 f1_score: 0.614\n",
      "n_est: 54 score_valid: 0.851 f1_score: 0.619\n",
      "n_est: 55 score_valid: 0.848 f1_score: 0.616\n",
      "n_est: 56 score_valid: 0.856 f1_score: 0.624\n",
      "n_est: 57 score_valid: 0.854 f1_score: 0.631\n",
      "n_est: 58 score_valid: 0.856 f1_score: 0.628\n",
      "n_est: 59 score_valid: 0.848 f1_score: 0.618\n",
      "n_est: 60 score_valid: 0.857 f1_score: 0.63\n",
      "n_est: 61 score_valid: 0.854 f1_score: 0.627\n",
      "n_est: 62 score_valid: 0.852 f1_score: 0.623\n",
      "n_est: 63 score_valid: 0.856 f1_score: 0.635\n",
      "n_est: 64 score_valid: 0.854 f1_score: 0.632\n",
      "n_est: 65 score_valid: 0.849 f1_score: 0.621\n",
      "n_est: 66 score_valid: 0.855 f1_score: 0.628\n",
      "n_est: 67 score_valid: 0.855 f1_score: 0.629\n",
      "n_est: 68 score_valid: 0.854 f1_score: 0.634\n",
      "n_est: 69 score_valid: 0.854 f1_score: 0.626\n",
      "n_est: 70 score_valid: 0.849 f1_score: 0.619\n",
      "n_est: 71 score_valid: 0.858 f1_score: 0.636\n",
      "n_est: 72 score_valid: 0.854 f1_score: 0.628\n",
      "n_est: 73 score_valid: 0.848 f1_score: 0.619\n",
      "n_est: 74 score_valid: 0.856 f1_score: 0.63\n",
      "n_est: 75 score_valid: 0.85 f1_score: 0.619\n",
      "n_est: 76 score_valid: 0.849 f1_score: 0.618\n",
      "n_est: 77 score_valid: 0.85 f1_score: 0.623\n",
      "n_est: 78 score_valid: 0.86 f1_score: 0.638\n",
      "n_est: 79 score_valid: 0.856 f1_score: 0.629\n",
      "n_est: 80 score_valid: 0.85 f1_score: 0.616\n",
      "n_est: 81 score_valid: 0.852 f1_score: 0.623\n",
      "n_est: 82 score_valid: 0.849 f1_score: 0.613\n",
      "n_est: 83 score_valid: 0.851 f1_score: 0.62\n",
      "n_est: 84 score_valid: 0.851 f1_score: 0.62\n",
      "n_est: 85 score_valid: 0.852 f1_score: 0.626\n",
      "n_est: 86 score_valid: 0.852 f1_score: 0.621\n",
      "n_est: 87 score_valid: 0.854 f1_score: 0.63\n",
      "n_est: 88 score_valid: 0.852 f1_score: 0.622\n",
      "n_est: 89 score_valid: 0.858 f1_score: 0.636\n",
      "n_est: 90 score_valid: 0.855 f1_score: 0.633\n",
      "n_est: 91 score_valid: 0.851 f1_score: 0.624\n",
      "n_est: 92 score_valid: 0.846 f1_score: 0.61\n",
      "n_est: 93 score_valid: 0.852 f1_score: 0.621\n",
      "n_est: 94 score_valid: 0.852 f1_score: 0.625\n",
      "n_est: 95 score_valid: 0.852 f1_score: 0.615\n",
      "n_est: 96 score_valid: 0.85 f1_score: 0.619\n",
      "n_est: 97 score_valid: 0.852 f1_score: 0.625\n",
      "n_est: 98 score_valid: 0.852 f1_score: 0.625\n",
      "n_est: 99 score_valid: 0.85 f1_score: 0.618\n",
      "best_f1_score 0.6383526383526383 with depth -  9  n_estimators: 78\n",
      "Wall time: 13.6 s\n"
     ]
    },
    {
     "data": {
      "text/plain": [
       "RandomForestClassifier(max_depth=9, n_estimators=78)"
      ]
     },
     "execution_count": 85,
     "metadata": {},
     "output_type": "execute_result"
    }
   ],
   "source": [
    "%%time\n",
    "for n_est in range(30,100,1):\n",
    "    model = RandomForestClassifier(n_estimators=n_est,max_depth=best_depth)\n",
    "    model.fit(features_train_downsampled, target_train_downsampled)\n",
    "    predictions_valid = model.predict(features_valid)\n",
    "    print('n_est:',n_est, 'score_valid:', round(model.score(features_valid, target_valid), 3),\n",
    "        'f1_score:', round(f1_score(target_valid,predictions_valid),3))    \n",
    "    if best_f1_score < f1_score(target_valid,predictions_valid):\n",
    "        best_score = model.score(features_valid, target_valid)\n",
    "        best_f1_score = f1_score(target_valid,predictions_valid)\n",
    "        best_model= model\n",
    "        best_n_est=n_est  \n",
    "print('best_f1_score',best_f1_score, 'with depth - ',best_depth, ' n_estimators:',best_n_est)\n",
    "best_model"
   ]
  },
  {
   "cell_type": "markdown",
   "metadata": {},
   "source": [
    "для модели RandomForestClassifier проведен поиск наилучших гиперпараметров"
   ]
  },
  {
   "cell_type": "markdown",
   "metadata": {},
   "source": [
    "### Логистическая регрессия"
   ]
  },
  {
   "cell_type": "code",
   "execution_count": 75,
   "metadata": {},
   "outputs": [],
   "source": [
    "best_f1_score=0\n",
    "best_iteration=0\n",
    "best_model2=None"
   ]
  },
  {
   "cell_type": "code",
   "execution_count": 84,
   "metadata": {
    "scrolled": false
   },
   "outputs": [
    {
     "name": "stdout",
     "output_type": "stream",
     "text": [
      "iteration: 100\n",
      "n_est: 99 score_valid: 0.782 f1_score: 0.603\n",
      "iteration: 200\n",
      "n_est: 99 score_valid: 0.782 f1_score: 0.603\n",
      "iteration: 300\n",
      "n_est: 99 score_valid: 0.782 f1_score: 0.603\n",
      "iteration: 400\n",
      "n_est: 99 score_valid: 0.782 f1_score: 0.603\n",
      "iteration: 500\n",
      "n_est: 99 score_valid: 0.782 f1_score: 0.603\n",
      "iteration: 600\n",
      "n_est: 99 score_valid: 0.782 f1_score: 0.603\n",
      "iteration: 700\n",
      "n_est: 99 score_valid: 0.782 f1_score: 0.603\n",
      "iteration: 800\n",
      "n_est: 99 score_valid: 0.782 f1_score: 0.603\n",
      "iteration: 900\n",
      "n_est: 99 score_valid: 0.782 f1_score: 0.603\n",
      "best_score 0.8275 with iteration -  100\n",
      "Wall time: 59.8 ms\n"
     ]
    },
    {
     "data": {
      "text/plain": [
       "LogisticRegression(class_weight='balanced', random_state=12345,\n",
       "                   solver='liblinear')"
      ]
     },
     "execution_count": 84,
     "metadata": {},
     "output_type": "execute_result"
    }
   ],
   "source": [
    "%%time \n",
    "for iteration in range(100,1000,100):\n",
    "    model = LogisticRegression(random_state=12345, solver='liblinear', max_iter=iteration, class_weight ='balanced')\n",
    "    model.fit(features_train_downsampled,target_train_downsampled)    \n",
    "    print('iteration:',iteration)                          \n",
    "    print('n_est:',n_est, 'score_valid:', round(model.score(features_valid, target_valid), 3),\n",
    "        'f1_score:', round(f1_score(target_valid,predictions_valid),3))\n",
    "    \n",
    "    if best_f1_score < f1_score(target_valid,predictions_valid):\n",
    "        best_score = model.score(features_valid, target_valid)\n",
    "        best_f1_score = f1_score(target_valid,predictions_valid)\n",
    "        best_model2= model\n",
    "        best_iteration=iteration\n",
    "        \n",
    "print('best_score',best_score, 'with iteration - ',best_iteration)\n",
    "best_model2"
   ]
  },
  {
   "cell_type": "markdown",
   "metadata": {},
   "source": [
    "Логистическая регрессия показывает бОльшую скорость, но меньшую точность. Количество итераций на результат не влияет"
   ]
  },
  {
   "cell_type": "markdown",
   "metadata": {},
   "source": [
    "### Вывод"
   ]
  },
  {
   "cell_type": "markdown",
   "metadata": {},
   "source": [
    "После подбора параметров определена модель-победитель - RandomForestClassifier. Запоминаем её в best_model"
   ]
  },
  {
   "cell_type": "markdown",
   "metadata": {},
   "source": [
    "## Тестирование модели"
   ]
  },
  {
   "cell_type": "code",
   "execution_count": 86,
   "metadata": {
    "scrolled": false
   },
   "outputs": [
    {
     "name": "stdout",
     "output_type": "stream",
     "text": [
      "Точность лучшей модели на тестовой выборке 0.844\n"
     ]
    }
   ],
   "source": [
    "score_test = best_model.score(features_test, target_test)\n",
    "print('Точность лучшей модели на тестовой выборке',score_test)"
   ]
  },
  {
   "cell_type": "markdown",
   "metadata": {},
   "source": [
    "### f1-мера лучшей модели"
   ]
  },
  {
   "cell_type": "code",
   "execution_count": 87,
   "metadata": {},
   "outputs": [
    {
     "name": "stdout",
     "output_type": "stream",
     "text": [
      "F1: 0.6030534351145038\n"
     ]
    }
   ],
   "source": [
    "predicted_test=best_model.predict(features_test)\n",
    "f1=f1_score(target_test, predicted_test)\n",
    "print(\"F1:\", f1)"
   ]
  },
  {
   "cell_type": "markdown",
   "metadata": {},
   "source": [
    "### метрика AUC-ROC лучшей модели"
   ]
  },
  {
   "cell_type": "code",
   "execution_count": 88,
   "metadata": {},
   "outputs": [
    {
     "data": {
      "text/plain": [
       "0.51488672120359"
      ]
     },
     "execution_count": 88,
     "metadata": {},
     "output_type": "execute_result"
    }
   ],
   "source": [
    "probabilities_test = best_model.predict_proba(features_test)\n",
    "probabilities_one_test = probabilities_valid[:, 1]\n",
    "auc_roc = roc_auc_score(target_test, probabilities_one_test)\n",
    "auc_roc"
   ]
  },
  {
   "cell_type": "markdown",
   "metadata": {},
   "source": [
    "## Вывод"
   ]
  },
  {
   "cell_type": "markdown",
   "metadata": {},
   "source": [
    "В процессе подготовки данных убран столбец с фамилией,  чтобы избежать увеличения датафрейма при кодировании.\n",
    "убраны столбец rownumber, customerid (не нужны для обучения). Пропуски в датафрейме обработаны. Разделены выборки на обучающую, валидационную и для тестирования, соотношении 3:1:1. Применено кодирование OHE и проведено масштабирование признаков.\n",
    "\n",
    "Был опробован метод взвешивания классов, но после его применения f1-мера не увеличилась.\n",
    "Применены методы upsampling, downsampling. \n",
    "\n",
    "Произведен поиск лучшей модели относительно f1. Модель Случайный Лес показала лучшие результаты по сравнению с логистической регрессией, но обучается она заметно дольше.\n",
    "\n",
    "Для лучшей модели проведено тестирование. Измерена f1-мера и AUC-ROC метрика. В моем случае получилось достичь нужного значения. Надеюсь, что это не случайность!) А AUC-ROC, кстати, уменьшилась по сравнению с проверкой без борьбы с дисбалансом (пункт 2.1)"
   ]
  },
  {
   "cell_type": "markdown",
   "metadata": {},
   "source": [
    "# <font color='orange'>Рекомендации 🔥</font>\n",
    "* Анализ данных на python и pandas https://www.youtube.com/watch?v=dd3RcafdOQk&t=82s\n",
    "* Курс \"Введение в машинное обучение\" https://stepik.org/course/4852\n",
    "* Разумные способы кодирования категориальных данных для машинного обучения https://machinelearningmastery.ru/smarter-ways-to-encode-categorical-data-for-machine-learning-part-1-of-3-6dca2f71b159/\n",
    "* Статья про \"непонятную\" метрику ROC-AUC https://dyakonov.org/2017/07/28/auc-roc-площадь-под-кривой-ошибок/\n",
    "* Хочешь подтянуть математику для DS?) https://academy.stepik.org/math-for-data-science\n",
    "* Результаты обучения моделей можно визуализировать 😎 https://www.datatechnotes.com/2019/08/elasticnet-regression-example-in-python.html\n",
    "* В нашем деле нужно быть всегда в курсе всех новинок, новостей и тд, вот тут публикуют новости в области DS: https://www.infoq.com/data-analysis/news/\n",
    "* Всем аналитикам данных рекомендую книгу Даниела Канемана \"Думай медленно, решай быстро\""
   ]
  }
 ],
 "metadata": {
  "kernelspec": {
   "display_name": "Python 3 (ipykernel)",
   "language": "python",
   "name": "python3"
  },
  "language_info": {
   "codemirror_mode": {
    "name": "ipython",
    "version": 3
   },
   "file_extension": ".py",
   "mimetype": "text/x-python",
   "name": "python",
   "nbconvert_exporter": "python",
   "pygments_lexer": "ipython3",
   "version": "3.9.13"
  },
  "toc": {
   "base_numbering": 1,
   "nav_menu": {},
   "number_sections": true,
   "sideBar": true,
   "skip_h1_title": true,
   "title_cell": "Содержание",
   "title_sidebar": "Contents",
   "toc_cell": true,
   "toc_position": {
    "height": "calc(100% - 180px)",
    "left": "10px",
    "top": "150px",
    "width": "339.757px"
   },
   "toc_section_display": true,
   "toc_window_display": true
  }
 },
 "nbformat": 4,
 "nbformat_minor": 2
}
